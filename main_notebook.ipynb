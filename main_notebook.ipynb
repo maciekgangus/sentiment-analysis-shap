{
 "cells": [
  {
   "cell_type": "code",
   "outputs": [],
   "source": [
    "import numpy as np\n",
    "from matplotlib import pyplot as plt\n",
    "import seaborn as sns\n",
    "import pandas as pd\n",
    "from vaderSentiment.vaderSentiment import SentimentIntensityAnalyzer\n",
    "import re\n",
    "\n",
    "tweets_df = pd.read_csv(\"realdonaldtrump.csv\")\n",
    "def combine_text(row):\n",
    "    content = row['content'] if pd.notna(row['content']) else ''\n",
    "    hashtags = row['hashtags'] if pd.notna(row['hashtags']) else ''\n",
    "    mentions = row['mentions'] if pd.notna(row['mentions']) else ''\n",
    "    return f\"{content} {hashtags} {mentions}\"\n",
    "\n",
    "tweets_df[\"text_full\"] = tweets_df.apply(combine_text, axis=1)\n",
    "\n",
    "def clean_tweet_for_vader(text):\n",
    "    text = re.sub(r\"http\\S+|www.\\S+\", \"\", text)     \n",
    "    text = re.sub(r\"#\", \"\", text)                   \n",
    "    text = re.sub(r\"@\", \"\", text)                   \n",
    "    text = re.sub(r\"\\s+\", \" \", text).strip()        \n",
    "    return text\n",
    "\n",
    "\n",
    "tweets_df[\"text_clean\"] = tweets_df[\"text_full\"].apply(clean_tweet_for_vader)\n",
    "\n",
    "analyzer = SentimentIntensityAnalyzer()\n",
    "tweets_df[\"vader_scores\"] = tweets_df[\"text_clean\"].apply(analyzer.polarity_scores)\n",
    "tweets_df = pd.concat([tweets_df, tweets_df[\"vader_scores\"].apply(pd.Series)], axis=1)\n",
    "\n",
    "def classify_sentiment(score):\n",
    "    if score >= 0.05:\n",
    "        return \"positive\"\n",
    "    elif score <= -0.05:\n",
    "        return \"negative\"\n",
    "    else:\n",
    "        return \"neutral\"\n",
    "\n",
    "tweets_df[\"sentiment_label\"] = tweets_df[\"compound\"].apply(classify_sentiment)\n",
    "\n",
    "def sentiment_to_number(sentiment):\n",
    "    if sentiment == 'neutral':\n",
    "        return 0\n",
    "    elif sentiment == 'positive':\n",
    "        return 1\n",
    "    else:\n",
    "        return 2"
   ],
   "metadata": {
    "collapsed": false,
    "ExecuteTime": {
     "end_time": "2025-05-26T21:02:52.188381Z",
     "start_time": "2025-05-26T21:02:47.365604Z"
    }
   },
   "id": "c54ca8b4faeb0e11",
   "execution_count": 8
  },
  {
   "cell_type": "code",
   "outputs": [
    {
     "data": {
      "text/plain": "                                              text_clean                 date  \\\n0      Be sure to tune in and watch Donald Trump on L...  2009-05-04 13:54:25   \n1      Donald Trump will be appearing on The View tom...  2009-05-04 20:00:10   \n2      Donald Trump reads Top Ten Financial Tips on L...  2009-05-08 08:38:08   \n3      New Blog Post: Celebrity Apprentice Finale and...  2009-05-08 15:40:15   \n4      \"My persona will never be that of a wallflower...  2009-05-12 09:07:28   \n...                                                  ...                  ...   \n43347  Joe Biden was a TOTAL FAILURE in Government. H...  2020-06-17 19:00:32   \n43348  Will be interviewed on seanhannity tonight at ...  2020-06-17 19:11:47   \n43349                         pic.twitter.com/3lm1spbU8X  2020-06-17 21:27:33   \n43350                         pic.twitter.com/vpCE5MadUz  2020-06-17 21:28:38   \n43351                         pic.twitter.com/VLlc0BHW41  2020-06-17 21:28:52   \n\n       retweets  favorites  sentiment_label  \n0           510        917                1  \n1            34        267                1  \n2            13         19                1  \n3            11         26                0  \n4          1375       1945                0  \n...         ...        ...              ...  \n43347     23402     116377               -1  \n43348     11810      56659                1  \n43349      4959      19344                0  \n43350      4627      17022                0  \n43351      3951      14344                0  \n\n[43352 rows x 5 columns]",
      "text/html": "<div>\n<style scoped>\n    .dataframe tbody tr th:only-of-type {\n        vertical-align: middle;\n    }\n\n    .dataframe tbody tr th {\n        vertical-align: top;\n    }\n\n    .dataframe thead th {\n        text-align: right;\n    }\n</style>\n<table border=\"1\" class=\"dataframe\">\n  <thead>\n    <tr style=\"text-align: right;\">\n      <th></th>\n      <th>text_clean</th>\n      <th>date</th>\n      <th>retweets</th>\n      <th>favorites</th>\n      <th>sentiment_label</th>\n    </tr>\n  </thead>\n  <tbody>\n    <tr>\n      <th>0</th>\n      <td>Be sure to tune in and watch Donald Trump on L...</td>\n      <td>2009-05-04 13:54:25</td>\n      <td>510</td>\n      <td>917</td>\n      <td>1</td>\n    </tr>\n    <tr>\n      <th>1</th>\n      <td>Donald Trump will be appearing on The View tom...</td>\n      <td>2009-05-04 20:00:10</td>\n      <td>34</td>\n      <td>267</td>\n      <td>1</td>\n    </tr>\n    <tr>\n      <th>2</th>\n      <td>Donald Trump reads Top Ten Financial Tips on L...</td>\n      <td>2009-05-08 08:38:08</td>\n      <td>13</td>\n      <td>19</td>\n      <td>1</td>\n    </tr>\n    <tr>\n      <th>3</th>\n      <td>New Blog Post: Celebrity Apprentice Finale and...</td>\n      <td>2009-05-08 15:40:15</td>\n      <td>11</td>\n      <td>26</td>\n      <td>0</td>\n    </tr>\n    <tr>\n      <th>4</th>\n      <td>\"My persona will never be that of a wallflower...</td>\n      <td>2009-05-12 09:07:28</td>\n      <td>1375</td>\n      <td>1945</td>\n      <td>0</td>\n    </tr>\n    <tr>\n      <th>...</th>\n      <td>...</td>\n      <td>...</td>\n      <td>...</td>\n      <td>...</td>\n      <td>...</td>\n    </tr>\n    <tr>\n      <th>43347</th>\n      <td>Joe Biden was a TOTAL FAILURE in Government. H...</td>\n      <td>2020-06-17 19:00:32</td>\n      <td>23402</td>\n      <td>116377</td>\n      <td>-1</td>\n    </tr>\n    <tr>\n      <th>43348</th>\n      <td>Will be interviewed on seanhannity tonight at ...</td>\n      <td>2020-06-17 19:11:47</td>\n      <td>11810</td>\n      <td>56659</td>\n      <td>1</td>\n    </tr>\n    <tr>\n      <th>43349</th>\n      <td>pic.twitter.com/3lm1spbU8X</td>\n      <td>2020-06-17 21:27:33</td>\n      <td>4959</td>\n      <td>19344</td>\n      <td>0</td>\n    </tr>\n    <tr>\n      <th>43350</th>\n      <td>pic.twitter.com/vpCE5MadUz</td>\n      <td>2020-06-17 21:28:38</td>\n      <td>4627</td>\n      <td>17022</td>\n      <td>0</td>\n    </tr>\n    <tr>\n      <th>43351</th>\n      <td>pic.twitter.com/VLlc0BHW41</td>\n      <td>2020-06-17 21:28:52</td>\n      <td>3951</td>\n      <td>14344</td>\n      <td>0</td>\n    </tr>\n  </tbody>\n</table>\n<p>43352 rows × 5 columns</p>\n</div>"
     },
     "execution_count": 11,
     "metadata": {},
     "output_type": "execute_result"
    }
   ],
   "source": [
    "\n",
    "trainable_data_df = tweets_df[['text_clean', 'date', 'retweets', 'favorites', 'sentiment_label']].copy()\n",
    "trainable_data_df['sentiment_label'] = trainable_data_df['sentiment_label'].apply(sentiment_to_number)\n",
    "\n",
    "trainable_data_df"
   ],
   "metadata": {
    "collapsed": false,
    "ExecuteTime": {
     "end_time": "2025-05-26T21:04:28.741287Z",
     "start_time": "2025-05-26T21:04:28.710055Z"
    }
   },
   "id": "5115465b738dde37",
   "execution_count": 11
  },
  {
   "cell_type": "code",
   "outputs": [
    {
     "name": "stdout",
     "output_type": "stream",
     "text": [
      "Amazing product! elonmusk innovation AI\n"
     ]
    }
   ],
   "source": [
    "\n"
   ],
   "metadata": {
    "collapsed": false,
    "ExecuteTime": {
     "end_time": "2025-05-26T21:05:04.021555Z",
     "start_time": "2025-05-26T21:05:04.015632Z"
    }
   },
   "id": "6081056277323be5",
   "execution_count": 12
  },
  {
   "cell_type": "code",
   "outputs": [],
   "source": [],
   "metadata": {
    "collapsed": false
   },
   "id": "efa63ac3556b05e8"
  }
 ],
 "metadata": {
  "kernelspec": {
   "display_name": "Python 3",
   "language": "python",
   "name": "python3"
  },
  "language_info": {
   "codemirror_mode": {
    "name": "ipython",
    "version": 2
   },
   "file_extension": ".py",
   "mimetype": "text/x-python",
   "name": "python",
   "nbconvert_exporter": "python",
   "pygments_lexer": "ipython2",
   "version": "2.7.6"
  }
 },
 "nbformat": 4,
 "nbformat_minor": 5
}
