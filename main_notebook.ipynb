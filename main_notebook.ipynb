{
 "cells": [
  {
   "cell_type": "code",
   "outputs": [],
   "source": [
    "import numpy as np\n",
    "from matplotlib import pyplot as plt\n",
    "import seaborn as sns\n",
    "import pandas as pd\n",
    "from vaderSentiment.vaderSentiment import SentimentIntensityAnalyzer\n",
    "import re\n",
    "from transformers import AutoModelForSequenceClassification\n",
    "from transformers import TFAutoModelForSequenceClassification\n",
    "from transformers import AutoTokenizer, AutoConfig\n",
    "import numpy as np\n",
    "from scipy.special import softmax\n",
    "import torch\n",
    "import torch.nn.functional as F\n",
    "import pickle\n",
    "from transformers import logging\n",
    "logging.set_verbosity_error()"
   ],
   "metadata": {
    "collapsed": false,
    "ExecuteTime": {
     "end_time": "2025-05-29T22:47:17.582584Z",
     "start_time": "2025-05-29T22:47:17.573414Z"
    }
   },
   "id": "791bff12d3f3fcc4",
   "execution_count": 10
  },
  {
   "cell_type": "code",
   "outputs": [],
   "source": [
    "def combine_text(row):\n",
    "    content = row['content'] if pd.notna(row['content']) else ''\n",
    "    hashtags = row['hashtags'] if pd.notna(row['hashtags']) else ''\n",
    "    mentions = row['mentions'] if pd.notna(row['mentions']) else ''\n",
    "    return f\"{content} {hashtags} {mentions}\""
   ],
   "metadata": {
    "collapsed": false,
    "ExecuteTime": {
     "end_time": "2025-05-29T22:44:42.317449Z",
     "start_time": "2025-05-29T22:44:42.313325Z"
    }
   },
   "id": "39a09af0e064a5df",
   "execution_count": 2
  },
  {
   "cell_type": "code",
   "outputs": [],
   "source": [
    "\n",
    "tweets_df = pd.read_csv(\"realdonaldtrump.csv\")\n",
    "\n",
    "def combine_text(row):\n",
    "    content = row['content'] if pd.notna(row['content']) else ''\n",
    "    hashtags = row['hashtags'] if pd.notna(row['hashtags']) else ''\n",
    "    mentions = row['mentions'] if pd.notna(row['mentions']) else ''\n",
    "    return f\"{content} {hashtags} {mentions}\"\n",
    "\n",
    "tweets_df[\"text_full\"] = tweets_df.apply(combine_text, axis=1)\n",
    "\n",
    "def clean_tweet_for_vader(text):\n",
    "    text = re.sub(r\"http\\S+|www.\\S+\", \"\", text)\n",
    "    text = re.sub(r\"#\", \"\", text)        \n",
    "    text = re.sub(r\"@\", \"\", text)     \n",
    "    text = re.sub(r\"\\s+\", \" \", text).strip()\n",
    "    return text\n",
    "\n",
    "\n",
    "tweets_df[\"text_clean\"] = tweets_df[\"text_full\"].apply(clean_tweet_for_vader)\n",
    "\n",
    "analyzer = SentimentIntensityAnalyzer() # model dart vader\n",
    "tweets_df[\"vader_scores\"] = tweets_df[\"text_clean\"].apply(analyzer.polarity_scores)\n",
    "tweets_df = pd.concat([tweets_df, tweets_df[\"vader_scores\"].apply(pd.Series)], axis=1)\n",
    "\n",
    "\n",
    "def classify_sentiment(score):\n",
    "    if score >= 0.05:\n",
    "        return \"positive\"\n",
    "    elif score <= -0.05:\n",
    "        return \"negative\"\n",
    "    else:\n",
    "        return \"neutral\"\n",
    "\n",
    "tweets_df[\"sentiment_label\"] = tweets_df[\"compound\"].apply(classify_sentiment)\n",
    "\n",
    "def sentiment_to_number(sentiment):\n",
    "    if sentiment == 'neutral':\n",
    "        return 0\n",
    "    elif sentiment == 'positive':\n",
    "        return 1\n",
    "    else:\n",
    "        return 2\n",
    "    \n",
    "del tweets_df"
   ],
   "metadata": {
    "collapsed": false,
    "ExecuteTime": {
     "end_time": "2025-05-28T20:57:21.916898Z",
     "start_time": "2025-05-28T20:57:17.481494Z"
    }
   },
   "id": "c54ca8b4faeb0e11",
   "execution_count": 3
  },
  {
   "cell_type": "code",
   "outputs": [],
   "source": [
    "def preprocess_tweet_bert(text):\n",
    "    text = re.sub(r\"http\\S+\", \"http\", text)\n",
    "    text = re.sub(r\"pic\\.twitter\\.com/\\S+\", \"<IMG>\", text)\n",
    "    text = re.sub(r\"\\s+\", \" \", text).strip()\n",
    "    text = re.sub(r\"@\\S+\", \"@user\", text).strip()\n",
    "    return text"
   ],
   "metadata": {
    "collapsed": false,
    "ExecuteTime": {
     "end_time": "2025-05-29T22:44:48.001648Z",
     "start_time": "2025-05-29T22:44:47.997800Z"
    }
   },
   "id": "b5cafd38ce8c8d25",
   "execution_count": 3
  },
  {
   "cell_type": "code",
   "outputs": [],
   "source": [
    "def tokenize_and_save_stream(data, tokenizer_type, batch_size=32, file_path=\"tokenized_batches.pkl\"):\n",
    "    with open(file_path, \"wb\") as f:\n",
    "        pass\n",
    "    for i in range(0, len(data), batch_size):\n",
    "        batch = data[i:i + batch_size]\n",
    "        encoded_inputs = tokenizer_type(batch, padding=True, truncation=True, max_length=32, return_tensors=\"pt\")\n",
    "        batch_dict = {k: v.tolist() for k, v in encoded_inputs.items()}\n",
    "        with open(file_path, \"ab\") as f:\n",
    "            pickle.dump(batch_dict, f)\n",
    "    print(f\"Tokeny zapisane do pliku {file_path}\")\n",
    "    "
   ],
   "metadata": {
    "collapsed": false,
    "ExecuteTime": {
     "end_time": "2025-05-29T22:44:50.401196Z",
     "start_time": "2025-05-29T22:44:50.397315Z"
    }
   },
   "id": "6e1a04bf4264e40c",
   "execution_count": 4
  },
  {
   "cell_type": "code",
   "outputs": [],
   "source": [
    "def load_tokenized_batches_stream(model_, device, file_path=\"tokenized_batches.pkl\"):\n",
    "    model_.eval()\n",
    "    results = []\n",
    "    with open(file_path, \"rb\") as f:\n",
    "        while True:\n",
    "            try:\n",
    "                batch_dict = pickle.load(f)\n",
    "                batch_tensors = {k: torch.tensor(v).to(device) for k, v in batch_dict.items()}\n",
    "                with torch.no_grad():\n",
    "                    outputs = model_(**batch_tensors)\n",
    "                \n",
    "                logits = outputs.logits\n",
    "                probs = F.softmax(logits, dim=1)\n",
    "                predicted_classes = torch.argmax(probs, dim=1)\n",
    "                \n",
    "                results.append((predicted_classes.cpu().numpy(), probs.cpu().numpy()))\n",
    "            except EOFError:\n",
    "                break\n",
    "        return results"
   ],
   "metadata": {
    "collapsed": false,
    "ExecuteTime": {
     "end_time": "2025-05-29T22:46:09.609784Z",
     "start_time": "2025-05-29T22:46:09.605221Z"
    }
   },
   "id": "23f4c7438740b7aa",
   "execution_count": 8
  },
  {
   "cell_type": "code",
   "outputs": [
    {
     "data": {
      "text/plain": "RobertaForSequenceClassification(\n  (roberta): RobertaModel(\n    (embeddings): RobertaEmbeddings(\n      (word_embeddings): Embedding(50265, 768, padding_idx=1)\n      (position_embeddings): Embedding(514, 768, padding_idx=1)\n      (token_type_embeddings): Embedding(1, 768)\n      (LayerNorm): LayerNorm((768,), eps=1e-05, elementwise_affine=True)\n      (dropout): Dropout(p=0.1, inplace=False)\n    )\n    (encoder): RobertaEncoder(\n      (layer): ModuleList(\n        (0-11): 12 x RobertaLayer(\n          (attention): RobertaAttention(\n            (self): RobertaSdpaSelfAttention(\n              (query): Linear(in_features=768, out_features=768, bias=True)\n              (key): Linear(in_features=768, out_features=768, bias=True)\n              (value): Linear(in_features=768, out_features=768, bias=True)\n              (dropout): Dropout(p=0.1, inplace=False)\n            )\n            (output): RobertaSelfOutput(\n              (dense): Linear(in_features=768, out_features=768, bias=True)\n              (LayerNorm): LayerNorm((768,), eps=1e-05, elementwise_affine=True)\n              (dropout): Dropout(p=0.1, inplace=False)\n            )\n          )\n          (intermediate): RobertaIntermediate(\n            (dense): Linear(in_features=768, out_features=3072, bias=True)\n            (intermediate_act_fn): GELUActivation()\n          )\n          (output): RobertaOutput(\n            (dense): Linear(in_features=3072, out_features=768, bias=True)\n            (LayerNorm): LayerNorm((768,), eps=1e-05, elementwise_affine=True)\n            (dropout): Dropout(p=0.1, inplace=False)\n          )\n        )\n      )\n    )\n  )\n  (classifier): RobertaClassificationHead(\n    (dense): Linear(in_features=768, out_features=768, bias=True)\n    (dropout): Dropout(p=0.1, inplace=False)\n    (out_proj): Linear(in_features=768, out_features=3, bias=True)\n  )\n)"
     },
     "execution_count": 11,
     "metadata": {},
     "output_type": "execute_result"
    }
   ],
   "source": [
    "# Wczytanie danych\n",
    "data_bert_df = pd.read_csv(\"realdonaldtrump.csv\")\n",
    "\n",
    "# Preprocessing\n",
    "data_bert_df['combined_tweet'] = data_bert_df.apply(combine_text, axis=1)\n",
    "data_bert_df['combined_tweet_cleared'] = data_bert_df['combined_tweet'].apply(preprocess_tweet_bert)\n",
    "\n",
    "# Ładowanie modelu\n",
    "MODEL = \"cardiffnlp/twitter-roberta-base-sentiment-latest\"\n",
    "tokenizer = AutoTokenizer.from_pretrained(MODEL, use_fast=True)\n",
    "config = AutoConfig.from_pretrained(MODEL)\n",
    "model = AutoModelForSequenceClassification.from_pretrained(MODEL)\n",
    "model.to(\"mps\")"
   ],
   "metadata": {
    "collapsed": false,
    "ExecuteTime": {
     "end_time": "2025-05-29T22:47:23.713802Z",
     "start_time": "2025-05-29T22:47:20.892527Z"
    }
   },
   "id": "630ef2c5d938927",
   "execution_count": 11
  },
  {
   "cell_type": "code",
   "outputs": [
    {
     "name": "stdout",
     "output_type": "stream",
     "text": [
      "Tokeny zapisane do pliku tokenized_batches.pkl\n"
     ]
    }
   ],
   "source": [
    "texts = data_bert_df['combined_tweet_cleared'].tolist()\n",
    "tokenize_and_save_stream(texts, tokenizer)"
   ],
   "metadata": {
    "collapsed": false,
    "ExecuteTime": {
     "end_time": "2025-05-29T22:48:45.580440Z",
     "start_time": "2025-05-29T22:48:44.439207Z"
    }
   },
   "id": "a5f66f4b211e53a0",
   "execution_count": 12
  },
  {
   "cell_type": "code",
   "outputs": [
    {
     "data": {
      "text/plain": "                                          combined_tweet sentiment_label  \\\n0      Be sure to tune in and watch Donald Trump on L...         neutral   \n1      Donald Trump will be appearing on The View tom...        positive   \n2      Donald Trump reads Top Ten Financial Tips on L...        positive   \n3      New Blog Post: Celebrity Apprentice Finale and...         neutral   \n4      \"My persona will never be that of a wallflower...         neutral   \n...                                                  ...             ...   \n43347  Joe Biden was a TOTAL FAILURE in Government. H...        negative   \n43348  Will be interviewed on @ seanhannity tonight a...        positive   \n43349                                              <IMG>         neutral   \n43350                                              <IMG>         neutral   \n43351                                              <IMG>         neutral   \n\n                                 sentiment_probabilities  \n0      [0.00428333505988121, 0.6332980990409851, 0.36...  \n1      [0.003935575485229492, 0.4739065170288086, 0.5...  \n2      [0.004720405209809542, 0.12900030612945557, 0....  \n3      [0.004224149510264397, 0.7814801335334778, 0.2...  \n4      [0.23554037511348724, 0.5717381834983826, 0.19...  \n...                                                  ...  \n43347  [0.9519144296646118, 0.04053443297743797, 0.00...  \n43348  [0.0016347389901056886, 0.07318022102117538, 0...  \n43349  [0.0871957391500473, 0.8049344420433044, 0.107...  \n43350  [0.0871957391500473, 0.8049344420433044, 0.107...  \n43351  [0.0871957391500473, 0.8049344420433044, 0.107...  \n\n[43352 rows x 3 columns]",
      "text/html": "<div>\n<style scoped>\n    .dataframe tbody tr th:only-of-type {\n        vertical-align: middle;\n    }\n\n    .dataframe tbody tr th {\n        vertical-align: top;\n    }\n\n    .dataframe thead th {\n        text-align: right;\n    }\n</style>\n<table border=\"1\" class=\"dataframe\">\n  <thead>\n    <tr style=\"text-align: right;\">\n      <th></th>\n      <th>combined_tweet</th>\n      <th>sentiment_label</th>\n      <th>sentiment_probabilities</th>\n    </tr>\n  </thead>\n  <tbody>\n    <tr>\n      <th>0</th>\n      <td>Be sure to tune in and watch Donald Trump on L...</td>\n      <td>neutral</td>\n      <td>[0.00428333505988121, 0.6332980990409851, 0.36...</td>\n    </tr>\n    <tr>\n      <th>1</th>\n      <td>Donald Trump will be appearing on The View tom...</td>\n      <td>positive</td>\n      <td>[0.003935575485229492, 0.4739065170288086, 0.5...</td>\n    </tr>\n    <tr>\n      <th>2</th>\n      <td>Donald Trump reads Top Ten Financial Tips on L...</td>\n      <td>positive</td>\n      <td>[0.004720405209809542, 0.12900030612945557, 0....</td>\n    </tr>\n    <tr>\n      <th>3</th>\n      <td>New Blog Post: Celebrity Apprentice Finale and...</td>\n      <td>neutral</td>\n      <td>[0.004224149510264397, 0.7814801335334778, 0.2...</td>\n    </tr>\n    <tr>\n      <th>4</th>\n      <td>\"My persona will never be that of a wallflower...</td>\n      <td>neutral</td>\n      <td>[0.23554037511348724, 0.5717381834983826, 0.19...</td>\n    </tr>\n    <tr>\n      <th>...</th>\n      <td>...</td>\n      <td>...</td>\n      <td>...</td>\n    </tr>\n    <tr>\n      <th>43347</th>\n      <td>Joe Biden was a TOTAL FAILURE in Government. H...</td>\n      <td>negative</td>\n      <td>[0.9519144296646118, 0.04053443297743797, 0.00...</td>\n    </tr>\n    <tr>\n      <th>43348</th>\n      <td>Will be interviewed on @ seanhannity tonight a...</td>\n      <td>positive</td>\n      <td>[0.0016347389901056886, 0.07318022102117538, 0...</td>\n    </tr>\n    <tr>\n      <th>43349</th>\n      <td>&lt;IMG&gt;</td>\n      <td>neutral</td>\n      <td>[0.0871957391500473, 0.8049344420433044, 0.107...</td>\n    </tr>\n    <tr>\n      <th>43350</th>\n      <td>&lt;IMG&gt;</td>\n      <td>neutral</td>\n      <td>[0.0871957391500473, 0.8049344420433044, 0.107...</td>\n    </tr>\n    <tr>\n      <th>43351</th>\n      <td>&lt;IMG&gt;</td>\n      <td>neutral</td>\n      <td>[0.0871957391500473, 0.8049344420433044, 0.107...</td>\n    </tr>\n  </tbody>\n</table>\n<p>43352 rows × 3 columns</p>\n</div>"
     },
     "execution_count": 13,
     "metadata": {},
     "output_type": "execute_result"
    }
   ],
   "source": [
    "batch_results = load_tokenized_batches_stream(model, device=\"mps\")\n",
    "# Połączenie wyników z partii\n",
    "sentiment_classes = []\n",
    "sentiment_probs = []\n",
    "for batch_class, batch_prob in batch_results:\n",
    "    sentiment_classes.extend(batch_class)\n",
    "    sentiment_probs.extend(batch_prob.tolist())\n",
    "\n",
    "# Dodanie wyników do DataFrame\n",
    "result_df = pd.DataFrame({\n",
    "    'combined_tweet': texts,\n",
    "    'sentiment_class': sentiment_classes,\n",
    "    'sentiment_probabilities': sentiment_probs\n",
    "})\n",
    "\n",
    "# Mapowanie wyników na etykiety\n",
    "result_df['sentiment_label'] = result_df['sentiment_class'].map({0: 'negative', 1: 'neutral', 2: 'positive'})\n",
    "\n",
    "# Wyświetlenie wyników\n",
    "result_df[['combined_tweet', 'sentiment_label', 'sentiment_probabilities']]\n"
   ],
   "metadata": {
    "collapsed": false,
    "ExecuteTime": {
     "end_time": "2025-05-29T22:51:27.348518Z",
     "start_time": "2025-05-29T22:49:18.391890Z"
    }
   },
   "id": "efa63ac3556b05e8",
   "execution_count": 13
  },
  {
   "cell_type": "code",
   "outputs": [
    {
     "name": "stdout",
     "output_type": "stream",
     "text": [
      "/opt/homebrew/opt/python@3.11/bin/python3.11\n"
     ]
    }
   ],
   "source": [],
   "metadata": {
    "collapsed": false,
    "ExecuteTime": {
     "end_time": "2025-05-28T20:55:31.409089Z",
     "start_time": "2025-05-28T20:55:31.401872Z"
    }
   },
   "id": "386ac3ee140e1795",
   "execution_count": 15
  },
  {
   "cell_type": "code",
   "outputs": [],
   "source": [],
   "metadata": {
    "collapsed": false
   },
   "id": "48e38ac5c6822e8e"
  }
 ],
 "metadata": {
  "kernelspec": {
   "name": "myenv",
   "language": "python",
   "display_name": "Python (myenv)"
  },
  "language_info": {
   "codemirror_mode": {
    "name": "ipython",
    "version": 2
   },
   "file_extension": ".py",
   "mimetype": "text/x-python",
   "name": "python",
   "nbconvert_exporter": "python",
   "pygments_lexer": "ipython2",
   "version": "2.7.6"
  }
 },
 "nbformat": 4,
 "nbformat_minor": 5
}
