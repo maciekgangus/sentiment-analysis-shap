{
 "cells": [
  {
   "cell_type": "code",
   "execution_count": 1,
   "id": "cf5ca77e91a7eef9",
   "metadata": {
    "collapsed": false,
    "ExecuteTime": {
     "end_time": "2025-07-01T21:36:29.445135Z",
     "start_time": "2025-07-01T21:36:27.478781Z"
    }
   },
   "outputs": [],
   "source": [
    "import pandas as pd\n",
    "import matplotlib.pyplot as plt\n",
    "import seaborn as sns\n",
    "\n",
    "from utils.preprocessing import combine_text, run_vader_analysis, sentiment_to_number\n"
   ]
  },
  {
   "cell_type": "code",
   "outputs": [],
   "source": [
    "raw_df = pd.read_csv(\"../data/realdonaldtrump.csv\")\n",
    "raw_df[\"full_text\"] = raw_df.apply(combine_text, axis=1)"
   ],
   "metadata": {
    "collapsed": false,
    "ExecuteTime": {
     "end_time": "2025-07-01T21:36:30.731400Z",
     "start_time": "2025-07-01T21:36:30.346861Z"
    }
   },
   "id": "3fa0d540e88cc603",
   "execution_count": 2
  },
  {
   "cell_type": "code",
   "outputs": [],
   "source": [
    "vader_df = run_vader_analysis(raw_df)\n",
    "#vader_df = pd.read_csv(\"../data/vader_sentiment.csv\")"
   ],
   "metadata": {
    "collapsed": false,
    "ExecuteTime": {
     "end_time": "2025-07-01T21:36:35.361531Z",
     "start_time": "2025-07-01T21:36:31.287890Z"
    }
   },
   "id": "7c5ed788a196002f",
   "execution_count": 3
  },
  {
   "cell_type": "code",
   "outputs": [
    {
     "data": {
      "text/plain": "                                             vader_clean  \\\n0      sure tune watch Donald Trump Late Night David ...   \n1      Donald Trump appearing View tomorrow morning d...   \n2      Donald Trump reads Top Ten Financial Tips Late...   \n3      New Blog Post Celebrity Apprentice Finale Less...   \n4      persona never wallflower Id rather build walls...   \n...                                                  ...   \n43347  Joe Biden TOTAL FAILURE Government bungled eve...   \n43348  interviewed seanhannity tonight 900 PM Enjoy s...   \n43349                                                IMG   \n43350                                                IMG   \n43351                                                IMG   \n\n      vader_sentiment_label  vader_numeric  \n0                  positive              1  \n1                  positive              1  \n2                  positive              1  \n3                   neutral              0  \n4                   neutral              0  \n...                     ...            ...  \n43347              negative              2  \n43348              positive              1  \n43349               neutral              0  \n43350               neutral              0  \n43351               neutral              0  \n\n[43352 rows x 3 columns]",
      "text/html": "<div>\n<style scoped>\n    .dataframe tbody tr th:only-of-type {\n        vertical-align: middle;\n    }\n\n    .dataframe tbody tr th {\n        vertical-align: top;\n    }\n\n    .dataframe thead th {\n        text-align: right;\n    }\n</style>\n<table border=\"1\" class=\"dataframe\">\n  <thead>\n    <tr style=\"text-align: right;\">\n      <th></th>\n      <th>vader_clean</th>\n      <th>vader_sentiment_label</th>\n      <th>vader_numeric</th>\n    </tr>\n  </thead>\n  <tbody>\n    <tr>\n      <th>0</th>\n      <td>sure tune watch Donald Trump Late Night David ...</td>\n      <td>positive</td>\n      <td>1</td>\n    </tr>\n    <tr>\n      <th>1</th>\n      <td>Donald Trump appearing View tomorrow morning d...</td>\n      <td>positive</td>\n      <td>1</td>\n    </tr>\n    <tr>\n      <th>2</th>\n      <td>Donald Trump reads Top Ten Financial Tips Late...</td>\n      <td>positive</td>\n      <td>1</td>\n    </tr>\n    <tr>\n      <th>3</th>\n      <td>New Blog Post Celebrity Apprentice Finale Less...</td>\n      <td>neutral</td>\n      <td>0</td>\n    </tr>\n    <tr>\n      <th>4</th>\n      <td>persona never wallflower Id rather build walls...</td>\n      <td>neutral</td>\n      <td>0</td>\n    </tr>\n    <tr>\n      <th>...</th>\n      <td>...</td>\n      <td>...</td>\n      <td>...</td>\n    </tr>\n    <tr>\n      <th>43347</th>\n      <td>Joe Biden TOTAL FAILURE Government bungled eve...</td>\n      <td>negative</td>\n      <td>2</td>\n    </tr>\n    <tr>\n      <th>43348</th>\n      <td>interviewed seanhannity tonight 900 PM Enjoy s...</td>\n      <td>positive</td>\n      <td>1</td>\n    </tr>\n    <tr>\n      <th>43349</th>\n      <td>IMG</td>\n      <td>neutral</td>\n      <td>0</td>\n    </tr>\n    <tr>\n      <th>43350</th>\n      <td>IMG</td>\n      <td>neutral</td>\n      <td>0</td>\n    </tr>\n    <tr>\n      <th>43351</th>\n      <td>IMG</td>\n      <td>neutral</td>\n      <td>0</td>\n    </tr>\n  </tbody>\n</table>\n<p>43352 rows × 3 columns</p>\n</div>"
     },
     "execution_count": 4,
     "metadata": {},
     "output_type": "execute_result"
    }
   ],
   "source": [
    "vader_df"
   ],
   "metadata": {
    "collapsed": false,
    "ExecuteTime": {
     "end_time": "2025-07-01T21:36:36.013742Z",
     "start_time": "2025-07-01T21:36:36.003067Z"
    }
   },
   "id": "336c5d63ac2f8842",
   "execution_count": 4
  },
  {
   "cell_type": "code",
   "outputs": [
    {
     "data": {
      "text/plain": "<Figure size 600x400 with 1 Axes>",
      "image/png": "[encoded data removed]"
     },
     "metadata": {},
     "output_type": "display_data"
    },
    {
     "name": "stdout",
     "output_type": "stream",
     "text": [
      "Neutral (0): 7711\n",
      "Positive (1): 25223\n",
      "Negative (2): 10418\n"
     ]
    }
   ],
   "source": [
    "plt.figure(figsize=(6, 4))\n",
    "sns.countplot(\n",
    "    data=vader_df,\n",
    "    x=\"vader_sentiment_label\",\n",
    "    hue=\"vader_sentiment_label\",\n",
    "    palette=\"crest\",\n",
    "    legend=False,\n",
    ")\n",
    "plt.title(\"Rozkład sentymentów (VADER) - numeric\")\n",
    "plt.xlabel(\"Sentyment (0=neu, 1=pos, 2=neg)\")\n",
    "plt.ylabel(\"Liczba tweetów\")\n",
    "plt.tight_layout()\n",
    "plt.show()"
   ],
   "metadata": {
    "collapsed": true,
    "ExecuteTime": {
     "end_time": "2025-07-01T21:36:43.285223Z",
     "start_time": "2025-07-01T21:36:43.150066Z"
    }
   },
   "id": "initial_id",
   "execution_count": 5
  },
  {
   "cell_type": "code",
   "outputs": [
    {
     "name": "stdout",
     "output_type": "stream",
     "text": [
      "Zapisano: data/vader_sentiment.csv\n"
     ]
    }
   ],
   "source": [
    "vader_df.to_csv(\"../data/vader_sentiment.csv\", index=False)\n",
    "print(\"Zapisano: data/vader_sentiment.csv\")"
   ],
   "metadata": {
    "collapsed": false,
    "ExecuteTime": {
     "end_time": "2025-07-01T21:02:03.457656Z",
     "start_time": "2025-07-01T21:02:03.379368Z"
    }
   },
   "id": "886763dc298f0f50",
   "execution_count": 7
  },
  {
   "cell_type": "code",
   "outputs": [],
   "source": [],
   "metadata": {
    "collapsed": false
   },
   "id": "b5cbeb9d95f6a972"
  }
 ],
 "metadata": {
  "kernelspec": {
   "display_name": "Python 3",
   "language": "python",
   "name": "python3"
  },
  "language_info": {
   "codemirror_mode": {
    "name": "ipython",
    "version": 2
   },
   "file_extension": ".py",
   "mimetype": "text/x-python",
   "name": "python",
   "nbconvert_exporter": "python",
   "pygments_lexer": "ipython2",
   "version": "2.7.6"
  }
 },
 "nbformat": 4,
 "nbformat_minor": 5
}
